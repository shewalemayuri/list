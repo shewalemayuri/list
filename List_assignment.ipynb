{
 "cells": [
  {
   "cell_type": "code",
   "execution_count": 46,
   "id": "20c90886",
   "metadata": {},
   "outputs": [
    {
     "data": {
      "text/plain": [
       "[90, 80, 70, 60, 50, 40, 3, 20, 10]"
      ]
     },
     "execution_count": 46,
     "metadata": {},
     "output_type": "execute_result"
    }
   ],
   "source": [
    "l=[90,80,70,60,50,40,3,20,10]\n",
    "l"
   ]
  },
  {
   "cell_type": "markdown",
   "id": "3beca7cd",
   "metadata": {
    "scrolled": true
   },
   "source": [
    "This function is used to check the type of variable."
   ]
  },
  {
   "cell_type": "code",
   "execution_count": 47,
   "id": "cdb7b973",
   "metadata": {},
   "outputs": [
    {
     "name": "stdout",
     "output_type": "stream",
     "text": [
      "<class 'list'>\n"
     ]
    }
   ],
   "source": [
    "try:\n",
    "    def variable_type(l):\n",
    "        \"This function is used to check the type of variable.\"\n",
    "        try:\n",
    "            print(type(l))\n",
    "        except exception as e:\n",
    "            print(e)\n",
    "    variable_type(l)\n",
    "except exception as e:\n",
    "    print(e)"
   ]
  },
  {
   "cell_type": "markdown",
   "id": "7ee662d1",
   "metadata": {},
   "source": [
    "This function is used to find minimum value."
   ]
  },
  {
   "cell_type": "code",
   "execution_count": 48,
   "id": "0377ec78",
   "metadata": {},
   "outputs": [
    {
     "name": "stdout",
     "output_type": "stream",
     "text": [
      "3\n"
     ]
    }
   ],
   "source": [
    "try:\n",
    "    def minimum_value(l):\n",
    "        \"Thisfunction is used to find minimum value.\"\n",
    "        try:\n",
    "            print(min(l))\n",
    "        except Exception as e:\n",
    "            print(e)\n",
    "    minimum_value(l)\n",
    "except Exception as e:\n",
    "    print(e)"
   ]
  },
  {
   "cell_type": "markdown",
   "id": "f306e78d",
   "metadata": {},
   "source": [
    "This function is used to find maximum value."
   ]
  },
  {
   "cell_type": "code",
   "execution_count": 49,
   "id": "b8d33e8d",
   "metadata": {},
   "outputs": [
    {
     "name": "stdout",
     "output_type": "stream",
     "text": [
      "90\n"
     ]
    }
   ],
   "source": [
    "try:\n",
    "    def max_value(l):\n",
    "        \"This function is used to find maximum value.\"\n",
    "        try:\n",
    "            print(max(l))\n",
    "        except Exception as e:\n",
    "            print(e)\n",
    "    max_value(l)\n",
    "except Exception as e:\n",
    "    print(e)"
   ]
  },
  {
   "cell_type": "code",
   "execution_count": 69,
   "id": "f60a6b1b",
   "metadata": {},
   "outputs": [
    {
     "data": {
      "text/plain": [
       "['python', 'data', 'MAYURIS']"
      ]
     },
     "execution_count": 69,
     "metadata": {},
     "output_type": "execute_result"
    }
   ],
   "source": [
    "l=['python','data','MAYURIS']\n",
    "l"
   ]
  },
  {
   "cell_type": "code",
   "execution_count": 71,
   "id": "fab0c706",
   "metadata": {},
   "outputs": [
    {
     "name": "stdout",
     "output_type": "stream",
     "text": [
      "python\n"
     ]
    }
   ],
   "source": [
    "try:\n",
    "    def max_value(l):\n",
    "        \"This function is used to find maximum value\"\n",
    "        try:\n",
    "            print(max(l))\n",
    "        except Exception as e:\n",
    "            print(e)\n",
    "    max_value(l)\n",
    "except Exception as e:\n",
    "    print(e)"
   ]
  },
  {
   "cell_type": "code",
   "execution_count": 52,
   "id": "776f6c88",
   "metadata": {},
   "outputs": [],
   "source": [
    "l=[1,2,3]"
   ]
  },
  {
   "cell_type": "markdown",
   "id": "c8e4da3f",
   "metadata": {},
   "source": [
    "This function is used to adding the value at the end of the list."
   ]
  },
  {
   "cell_type": "code",
   "execution_count": 53,
   "id": "a73dd316",
   "metadata": {},
   "outputs": [
    {
     "name": "stdout",
     "output_type": "stream",
     "text": [
      "[1, 2, 3, 20]\n"
     ]
    }
   ],
   "source": [
    "try:\n",
    "    def append_value(l,value):\n",
    "        \"This function is used to adding the value at the end of the list.\"\n",
    "        try:\n",
    "            l.append(value)\n",
    "            print(l)\n",
    "        except Exception as e:\n",
    "            print(e)\n",
    "    append_value(l,20)\n",
    "except Exception as e:\n",
    "    print(e)"
   ]
  },
  {
   "cell_type": "markdown",
   "id": "689a8430",
   "metadata": {},
   "source": [
    "This function is used to extending value."
   ]
  },
  {
   "cell_type": "code",
   "execution_count": 54,
   "id": "f33fdcc7",
   "metadata": {},
   "outputs": [
    {
     "data": {
      "text/plain": [
       "['mayuri', 'shiv']"
      ]
     },
     "execution_count": 54,
     "metadata": {},
     "output_type": "execute_result"
    }
   ],
   "source": [
    "l1=['mayuri','shiv']\n",
    "l1"
   ]
  },
  {
   "cell_type": "code",
   "execution_count": 55,
   "id": "1c922113",
   "metadata": {},
   "outputs": [
    {
     "name": "stdout",
     "output_type": "stream",
     "text": [
      "[1, 2, 3, 20, 'mayuri', 'shiv']\n"
     ]
    }
   ],
   "source": [
    "try:\n",
    "    def extend_value(l,l1):\n",
    "        \"This function is used to extending value.\"\n",
    "        try:\n",
    "            l.extend(l1)\n",
    "            print(l)\n",
    "        except Exception as e:\n",
    "            print(e)\n",
    "    extend_value(l,l1)\n",
    "except Exception as e:\n",
    "    print(e)"
   ]
  },
  {
   "cell_type": "code",
   "execution_count": 56,
   "id": "efaf6320",
   "metadata": {},
   "outputs": [
    {
     "data": {
      "text/plain": [
       "[1, 2, 3, 4, 5, 'shiv', 'shewale']"
      ]
     },
     "execution_count": 56,
     "metadata": {},
     "output_type": "execute_result"
    }
   ],
   "source": [
    "l=[1,2,3,4,5,'shiv','shewale']\n",
    "l"
   ]
  },
  {
   "cell_type": "markdown",
   "id": "6ecf6f7d",
   "metadata": {},
   "source": [
    "This function is used to delete the value by index no."
   ]
  },
  {
   "cell_type": "code",
   "execution_count": 57,
   "id": "538c33eb",
   "metadata": {},
   "outputs": [
    {
     "name": "stdout",
     "output_type": "stream",
     "text": [
      "[1, 2, 3, 4, 5, 'shiv']\n"
     ]
    }
   ],
   "source": [
    "try:\n",
    "    def pop_value(l):\n",
    "        \"This function is used to delete the value by index no.\"\n",
    "        try:\n",
    "            l.pop()\n",
    "            print(l)\n",
    "        except Exception as e:\n",
    "            print(e)\n",
    "    pop_value(l)\n",
    "except Exception as e:\n",
    "    print(e)"
   ]
  },
  {
   "cell_type": "markdown",
   "id": "1db5987f",
   "metadata": {},
   "source": [
    "This function is used to remove the value."
   ]
  },
  {
   "cell_type": "code",
   "execution_count": 58,
   "id": "678d2460",
   "metadata": {},
   "outputs": [
    {
     "name": "stdout",
     "output_type": "stream",
     "text": [
      "[1, 2, 3, 4, 5]\n"
     ]
    }
   ],
   "source": [
    "try:\n",
    "    def remove_value(l,value):\n",
    "        \"This function is used to remove the value.\"\n",
    "        try:\n",
    "            l.remove(value)\n",
    "            print(l)\n",
    "        except Exception as e:\n",
    "            print(e)\n",
    "    remove_value(l,'shiv')\n",
    "except Exception as e:\n",
    "    print(e)"
   ]
  },
  {
   "cell_type": "markdown",
   "id": "f27a5433",
   "metadata": {},
   "source": [
    "This function is used to insert the value by index number."
   ]
  },
  {
   "cell_type": "code",
   "execution_count": 59,
   "id": "e364c729",
   "metadata": {},
   "outputs": [
    {
     "name": "stdout",
     "output_type": "stream",
     "text": [
      "[1, 2, 5.2, 3, 4, 5]\n"
     ]
    }
   ],
   "source": [
    "try:\n",
    "    def insert_value(l=list,index=int,value=float):\n",
    "        \"This function is used to insert the value by index number.\"\n",
    "        try:\n",
    "            l.insert(index,value)\n",
    "            print(l)\n",
    "        except Exception as e:\n",
    "            print(e)\n",
    "    insert_value(l,2,5.2)\n",
    "except Exception as e:\n",
    "    print(e)"
   ]
  },
  {
   "cell_type": "code",
   "execution_count": 60,
   "id": "001a2c14",
   "metadata": {},
   "outputs": [
    {
     "data": {
      "text/plain": [
       "[1, 2, 3, 4, 5, 'shiv', 'shewale']"
      ]
     },
     "execution_count": 60,
     "metadata": {},
     "output_type": "execute_result"
    }
   ],
   "source": [
    "l=[1,2,3,4,5,'shiv','shewale']\n",
    "l"
   ]
  },
  {
   "cell_type": "markdown",
   "id": "f892d338",
   "metadata": {},
   "source": [
    "This function is used to find the index value."
   ]
  },
  {
   "cell_type": "code",
   "execution_count": 61,
   "id": "310e37a2",
   "metadata": {},
   "outputs": [
    {
     "name": "stdout",
     "output_type": "stream",
     "text": [
      "4\n"
     ]
    }
   ],
   "source": [
    "try:\n",
    "    def index_value(l,value):\n",
    "        \"This function is used to find the index value.\"\n",
    "        try:\n",
    "            print(l.index(value))\n",
    "        except Exception as e:\n",
    "            print(e)\n",
    "    index_value(l,5)\n",
    "except Exception as e:\n",
    "    print(e)"
   ]
  },
  {
   "cell_type": "code",
   "execution_count": null,
   "id": "b96c595f",
   "metadata": {},
   "outputs": [],
   "source": []
  }
 ],
 "metadata": {
  "kernelspec": {
   "display_name": "Python 3 (ipykernel)",
   "language": "python",
   "name": "python3"
  },
  "language_info": {
   "codemirror_mode": {
    "name": "ipython",
    "version": 3
   },
   "file_extension": ".py",
   "mimetype": "text/x-python",
   "name": "python",
   "nbconvert_exporter": "python",
   "pygments_lexer": "ipython3",
   "version": "3.9.12"
  }
 },
 "nbformat": 4,
 "nbformat_minor": 5
}
